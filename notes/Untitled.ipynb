{
 "cells": [
  {
   "cell_type": "code",
   "execution_count": 1,
   "id": "0a714558-fbb7-4dd9-a58a-ca05bc81015a",
   "metadata": {
    "execution": {
     "iopub.execute_input": "2024-09-05T11:49:01.207542Z",
     "iopub.status.busy": "2024-09-05T11:49:01.206777Z",
     "iopub.status.idle": "2024-09-05T11:49:01.213559Z",
     "shell.execute_reply": "2024-09-05T11:49:01.212581Z",
     "shell.execute_reply.started": "2024-09-05T11:49:01.207475Z"
    }
   },
   "outputs": [],
   "source": [
    "import pandas as pd\n",
    "import numpy as np\n",
    "import os"
   ]
  },
  {
   "cell_type": "code",
   "execution_count": 2,
   "id": "830e0ec1-4405-4eb6-b1ce-fa74b35f4b4c",
   "metadata": {
    "execution": {
     "iopub.execute_input": "2024-09-05T11:49:27.997759Z",
     "iopub.status.busy": "2024-09-05T11:49:27.997341Z",
     "iopub.status.idle": "2024-09-05T11:49:28.005383Z",
     "shell.execute_reply": "2024-09-05T11:49:28.004594Z",
     "shell.execute_reply.started": "2024-09-05T11:49:27.997731Z"
    }
   },
   "outputs": [
    {
     "data": {
      "text/plain": [
       "['ranking.a.csv',\n",
       " 'ranking.b.csv',\n",
       " '.DS_Store',\n",
       " 'pe.b.csv',\n",
       " 'pe.a.csv',\n",
       " 'scoring.a.csv',\n",
       " 'scoring.b.csv']"
      ]
     },
     "execution_count": 2,
     "metadata": {},
     "output_type": "execute_result"
    }
   ],
   "source": [
    "indir = './data/pilot'\n",
    "os.listdir(indir)"
   ]
  },
  {
   "cell_type": "code",
   "execution_count": 3,
   "id": "73be0d8e-a5f7-472e-8115-9e445dc02e71",
   "metadata": {
    "execution": {
     "iopub.execute_input": "2024-09-05T11:50:02.508880Z",
     "iopub.status.busy": "2024-09-05T11:50:02.507408Z",
     "iopub.status.idle": "2024-09-05T11:50:02.520355Z",
     "shell.execute_reply": "2024-09-05T11:50:02.519459Z",
     "shell.execute_reply.started": "2024-09-05T11:50:02.508764Z"
    }
   },
   "outputs": [
    {
     "data": {
      "text/plain": [
       "['scoring.a.csv', 'scoring.b.csv']"
      ]
     },
     "execution_count": 3,
     "metadata": {},
     "output_type": "execute_result"
    }
   ],
   "source": [
    "scoring = [l for l in os.listdir(indir) if 'scoring' in l]\n",
    "scoring"
   ]
  },
  {
   "cell_type": "code",
   "execution_count": 6,
   "id": "7cc48ccd-5ad2-47bf-ac3f-b51019d5544d",
   "metadata": {
    "execution": {
     "iopub.execute_input": "2024-09-05T11:53:20.493017Z",
     "iopub.status.busy": "2024-09-05T11:53:20.492616Z",
     "iopub.status.idle": "2024-09-05T11:53:20.516277Z",
     "shell.execute_reply": "2024-09-05T11:53:20.515666Z",
     "shell.execute_reply.started": "2024-09-05T11:53:20.492989Z"
    }
   },
   "outputs": [
    {
     "data": {
      "text/html": [
       "<div>\n",
       "<style scoped>\n",
       "    .dataframe tbody tr th:only-of-type {\n",
       "        vertical-align: middle;\n",
       "    }\n",
       "\n",
       "    .dataframe tbody tr th {\n",
       "        vertical-align: top;\n",
       "    }\n",
       "\n",
       "    .dataframe thead th {\n",
       "        text-align: right;\n",
       "    }\n",
       "</style>\n",
       "<table border=\"1\" class=\"dataframe\">\n",
       "  <thead>\n",
       "    <tr style=\"text-align: right;\">\n",
       "      <th></th>\n",
       "      <th>scoring.a.csv</th>\n",
       "      <th>scoring.b.csv</th>\n",
       "    </tr>\n",
       "  </thead>\n",
       "  <tbody>\n",
       "    <tr>\n",
       "      <th>0</th>\n",
       "      <td>4</td>\n",
       "      <td>4</td>\n",
       "    </tr>\n",
       "    <tr>\n",
       "      <th>1</th>\n",
       "      <td>4</td>\n",
       "      <td>3</td>\n",
       "    </tr>\n",
       "    <tr>\n",
       "      <th>2</th>\n",
       "      <td>4</td>\n",
       "      <td>2</td>\n",
       "    </tr>\n",
       "    <tr>\n",
       "      <th>3</th>\n",
       "      <td>2</td>\n",
       "      <td>3</td>\n",
       "    </tr>\n",
       "    <tr>\n",
       "      <th>4</th>\n",
       "      <td>2</td>\n",
       "      <td>2</td>\n",
       "    </tr>\n",
       "    <tr>\n",
       "      <th>...</th>\n",
       "      <td>...</td>\n",
       "      <td>...</td>\n",
       "    </tr>\n",
       "    <tr>\n",
       "      <th>93</th>\n",
       "      <td>4</td>\n",
       "      <td>4</td>\n",
       "    </tr>\n",
       "    <tr>\n",
       "      <th>94</th>\n",
       "      <td>2</td>\n",
       "      <td>1</td>\n",
       "    </tr>\n",
       "    <tr>\n",
       "      <th>95</th>\n",
       "      <td>3</td>\n",
       "      <td>3</td>\n",
       "    </tr>\n",
       "    <tr>\n",
       "      <th>96</th>\n",
       "      <td>2</td>\n",
       "      <td>2</td>\n",
       "    </tr>\n",
       "    <tr>\n",
       "      <th>97</th>\n",
       "      <td>3</td>\n",
       "      <td>4</td>\n",
       "    </tr>\n",
       "  </tbody>\n",
       "</table>\n",
       "<p>98 rows × 2 columns</p>\n",
       "</div>"
      ],
      "text/plain": [
       "    scoring.a.csv  scoring.b.csv\n",
       "0               4              4\n",
       "1               4              3\n",
       "2               4              2\n",
       "3               2              3\n",
       "4               2              2\n",
       "..            ...            ...\n",
       "93              4              4\n",
       "94              2              1\n",
       "95              3              3\n",
       "96              2              2\n",
       "97              3              4\n",
       "\n",
       "[98 rows x 2 columns]"
      ]
     },
     "execution_count": 6,
     "metadata": {},
     "output_type": "execute_result"
    }
   ],
   "source": [
    "def collect_score(flist: list, col: str):\n",
    "    # .csv만 취급\n",
    "    flist = [f for f in flist if f.endswith('.csv')]\n",
    "    tmp = pd.DataFrame()\n",
    "    for fname in flist:\n",
    "        df = pd.read_csv(os.path.join(indir, fname))\n",
    "        tmp[fname] = df[col]\n",
    "    return tmp\n",
    "\n",
    "f = collect_score(scoring, 'Fluency Score')\n",
    "f"
   ]
  },
  {
   "cell_type": "code",
   "execution_count": 7,
   "id": "a946d346-c38f-4ae6-9599-7fa573f47841",
   "metadata": {
    "execution": {
     "iopub.execute_input": "2024-09-05T11:55:02.725537Z",
     "iopub.status.busy": "2024-09-05T11:55:02.724375Z",
     "iopub.status.idle": "2024-09-05T11:55:03.498415Z",
     "shell.execute_reply": "2024-09-05T11:55:03.498010Z",
     "shell.execute_reply.started": "2024-09-05T11:55:02.725463Z"
    }
   },
   "outputs": [
    {
     "data": {
      "text/plain": [
       "0.37549019607843137"
      ]
     },
     "execution_count": 7,
     "metadata": {},
     "output_type": "execute_result"
    }
   ],
   "source": [
    "from sklearn.metrics import cohen_kappa_score\n",
    "\n",
    "cohen_kappa_score(f['scoring.a.csv'], f['scoring.b.csv'])"
   ]
  },
  {
   "cell_type": "code",
   "execution_count": 8,
   "id": "30b40482-2400-40cb-95ca-dcab38e2a0f4",
   "metadata": {
    "execution": {
     "iopub.execute_input": "2024-09-05T11:55:18.596257Z",
     "iopub.status.busy": "2024-09-05T11:55:18.595840Z",
     "iopub.status.idle": "2024-09-05T11:55:18.616246Z",
     "shell.execute_reply": "2024-09-05T11:55:18.615404Z",
     "shell.execute_reply.started": "2024-09-05T11:55:18.596226Z"
    }
   },
   "outputs": [
    {
     "data": {
      "text/html": [
       "<div>\n",
       "<style scoped>\n",
       "    .dataframe tbody tr th:only-of-type {\n",
       "        vertical-align: middle;\n",
       "    }\n",
       "\n",
       "    .dataframe tbody tr th {\n",
       "        vertical-align: top;\n",
       "    }\n",
       "\n",
       "    .dataframe thead th {\n",
       "        text-align: right;\n",
       "    }\n",
       "</style>\n",
       "<table border=\"1\" class=\"dataframe\">\n",
       "  <thead>\n",
       "    <tr style=\"text-align: right;\">\n",
       "      <th></th>\n",
       "      <th>scoring.a.csv</th>\n",
       "      <th>scoring.b.csv</th>\n",
       "    </tr>\n",
       "  </thead>\n",
       "  <tbody>\n",
       "    <tr>\n",
       "      <th>0</th>\n",
       "      <td>4</td>\n",
       "      <td>4</td>\n",
       "    </tr>\n",
       "    <tr>\n",
       "      <th>1</th>\n",
       "      <td>3</td>\n",
       "      <td>4</td>\n",
       "    </tr>\n",
       "    <tr>\n",
       "      <th>2</th>\n",
       "      <td>3</td>\n",
       "      <td>3</td>\n",
       "    </tr>\n",
       "    <tr>\n",
       "      <th>3</th>\n",
       "      <td>3</td>\n",
       "      <td>3</td>\n",
       "    </tr>\n",
       "    <tr>\n",
       "      <th>4</th>\n",
       "      <td>3</td>\n",
       "      <td>2</td>\n",
       "    </tr>\n",
       "    <tr>\n",
       "      <th>...</th>\n",
       "      <td>...</td>\n",
       "      <td>...</td>\n",
       "    </tr>\n",
       "    <tr>\n",
       "      <th>93</th>\n",
       "      <td>4</td>\n",
       "      <td>4</td>\n",
       "    </tr>\n",
       "    <tr>\n",
       "      <th>94</th>\n",
       "      <td>2</td>\n",
       "      <td>1</td>\n",
       "    </tr>\n",
       "    <tr>\n",
       "      <th>95</th>\n",
       "      <td>3</td>\n",
       "      <td>4</td>\n",
       "    </tr>\n",
       "    <tr>\n",
       "      <th>96</th>\n",
       "      <td>3</td>\n",
       "      <td>4</td>\n",
       "    </tr>\n",
       "    <tr>\n",
       "      <th>97</th>\n",
       "      <td>3</td>\n",
       "      <td>4</td>\n",
       "    </tr>\n",
       "  </tbody>\n",
       "</table>\n",
       "<p>98 rows × 2 columns</p>\n",
       "</div>"
      ],
      "text/plain": [
       "    scoring.a.csv  scoring.b.csv\n",
       "0               4              4\n",
       "1               3              4\n",
       "2               3              3\n",
       "3               3              3\n",
       "4               3              2\n",
       "..            ...            ...\n",
       "93              4              4\n",
       "94              2              1\n",
       "95              3              4\n",
       "96              3              4\n",
       "97              3              4\n",
       "\n",
       "[98 rows x 2 columns]"
      ]
     },
     "execution_count": 8,
     "metadata": {},
     "output_type": "execute_result"
    }
   ],
   "source": [
    "a = collect_score(scoring, 'Adequacy Score')\n",
    "a"
   ]
  },
  {
   "cell_type": "code",
   "execution_count": 9,
   "id": "de0688dc-e1c6-4429-b947-dda06ad24468",
   "metadata": {
    "execution": {
     "iopub.execute_input": "2024-09-05T11:55:28.999175Z",
     "iopub.status.busy": "2024-09-05T11:55:28.998740Z",
     "iopub.status.idle": "2024-09-05T11:55:29.009270Z",
     "shell.execute_reply": "2024-09-05T11:55:29.008246Z",
     "shell.execute_reply.started": "2024-09-05T11:55:28.999144Z"
    }
   },
   "outputs": [
    {
     "data": {
      "text/plain": [
       "0.15720674234606136"
      ]
     },
     "execution_count": 9,
     "metadata": {},
     "output_type": "execute_result"
    }
   ],
   "source": [
    "cohen_kappa_score(a['scoring.a.csv'], a['scoring.b.csv'])"
   ]
  },
  {
   "cell_type": "code",
   "execution_count": null,
   "id": "7e54ff97-1f11-47ce-b5fa-6ea20ed551f7",
   "metadata": {},
   "outputs": [],
   "source": []
  }
 ],
 "metadata": {
  "kernelspec": {
   "display_name": "LangChain",
   "language": "python",
   "name": "langchain"
  },
  "language_info": {
   "codemirror_mode": {
    "name": "ipython",
    "version": 3
   },
   "file_extension": ".py",
   "mimetype": "text/x-python",
   "name": "python",
   "nbconvert_exporter": "python",
   "pygments_lexer": "ipython3",
   "version": "3.10.12"
  }
 },
 "nbformat": 4,
 "nbformat_minor": 5
}
