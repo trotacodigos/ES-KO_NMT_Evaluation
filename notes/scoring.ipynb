{
 "cells": [
  {
   "cell_type": "code",
   "execution_count": 1,
   "id": "e80b8b43-b6a2-4836-a867-b7bd067bb7d8",
   "metadata": {
    "execution": {
     "iopub.execute_input": "2024-09-04T05:14:20.420035Z",
     "iopub.status.busy": "2024-09-04T05:14:20.419611Z",
     "iopub.status.idle": "2024-09-04T05:14:20.425500Z",
     "shell.execute_reply": "2024-09-04T05:14:20.424604Z",
     "shell.execute_reply.started": "2024-09-04T05:14:20.420005Z"
    }
   },
   "outputs": [],
   "source": [
    "import pandas as pd\n",
    "import numpy as np\n",
    "import os"
   ]
  },
  {
   "cell_type": "code",
   "execution_count": 2,
   "id": "fc647714-8476-4521-808e-05b64cba05ce",
   "metadata": {
    "execution": {
     "iopub.execute_input": "2024-09-04T05:15:19.970223Z",
     "iopub.status.busy": "2024-09-04T05:15:19.969603Z",
     "iopub.status.idle": "2024-09-04T05:15:19.976040Z",
     "shell.execute_reply": "2024-09-04T05:15:19.974978Z",
     "shell.execute_reply.started": "2024-09-04T05:15:19.970184Z"
    }
   },
   "outputs": [],
   "source": [
    "indir = 'data/original/Scoring'\n",
    "outdir = 'data/main'"
   ]
  },
  {
   "cell_type": "code",
   "execution_count": 6,
   "id": "af20b2dd-4192-48e3-939d-0ff4df7aae3c",
   "metadata": {
    "execution": {
     "iopub.execute_input": "2024-09-04T05:22:14.552867Z",
     "iopub.status.busy": "2024-09-04T05:22:14.551453Z",
     "iopub.status.idle": "2024-09-04T05:22:14.564191Z",
     "shell.execute_reply": "2024-09-04T05:22:14.563310Z",
     "shell.execute_reply.started": "2024-09-04T05:22:14.552783Z"
    }
   },
   "outputs": [
    {
     "data": {
      "text/plain": [
       "['q.csv', '.DS_Store', 'p.csv', 'r.csv', 'x.csv', 'y.csv', 'z.csv']"
      ]
     },
     "execution_count": 6,
     "metadata": {},
     "output_type": "execute_result"
    }
   ],
   "source": [
    "scoring = os.listdir(indir)\n",
    "scoring"
   ]
  },
  {
   "cell_type": "code",
   "execution_count": 5,
   "id": "67fe3ae0-98d5-4008-93b6-51612b25760f",
   "metadata": {
    "execution": {
     "iopub.execute_input": "2024-09-04T05:16:51.259218Z",
     "iopub.status.busy": "2024-09-04T05:16:51.258800Z",
     "iopub.status.idle": "2024-09-04T05:16:51.278924Z",
     "shell.execute_reply": "2024-09-04T05:16:51.278117Z",
     "shell.execute_reply.started": "2024-09-04T05:16:51.259191Z"
    }
   },
   "outputs": [
    {
     "data": {
      "text/html": [
       "<div>\n",
       "<style scoped>\n",
       "    .dataframe tbody tr th:only-of-type {\n",
       "        vertical-align: middle;\n",
       "    }\n",
       "\n",
       "    .dataframe tbody tr th {\n",
       "        vertical-align: top;\n",
       "    }\n",
       "\n",
       "    .dataframe thead th {\n",
       "        text-align: right;\n",
       "    }\n",
       "</style>\n",
       "<table border=\"1\" class=\"dataframe\">\n",
       "  <thead>\n",
       "    <tr style=\"text-align: right;\">\n",
       "      <th></th>\n",
       "      <th>ID</th>\n",
       "      <th>Source Segment</th>\n",
       "      <th>MT Target Segment</th>\n",
       "      <th>Segment Origin</th>\n",
       "      <th>Comment</th>\n",
       "      <th>Number of Words (Source Segment)</th>\n",
       "      <th>Number of Words (Target Segment)</th>\n",
       "      <th>Fluency</th>\n",
       "      <th>Fluency Score</th>\n",
       "      <th>Adequacy</th>\n",
       "      <th>Adequacy Score</th>\n",
       "    </tr>\n",
       "  </thead>\n",
       "  <tbody>\n",
       "    <tr>\n",
       "      <th>0</th>\n",
       "      <td>1</td>\n",
       "      <td>[HEADLINE] El CIS otorga a Susana Díaz una amp...</td>\n",
       "      <td>CIS는 Susana Díaz에게 안달루시아 선거에서 대다수를 준다.</td>\n",
       "      <td>El País</td>\n",
       "      <td>NaN</td>\n",
       "      <td>14</td>\n",
       "      <td>7</td>\n",
       "      <td>Disfluent</td>\n",
       "      <td>2</td>\n",
       "      <td>Little</td>\n",
       "      <td>2</td>\n",
       "    </tr>\n",
       "  </tbody>\n",
       "</table>\n",
       "</div>"
      ],
      "text/plain": [
       "   ID                                     Source Segment  \\\n",
       "0   1  [HEADLINE] El CIS otorga a Susana Díaz una amp...   \n",
       "\n",
       "                        MT Target Segment Segment Origin  Comment  \\\n",
       "0  CIS는 Susana Díaz에게 안달루시아 선거에서 대다수를 준다.        El País      NaN   \n",
       "\n",
       "   Number of Words (Source Segment)  Number of Words (Target Segment)  \\\n",
       "0                                14                                 7   \n",
       "\n",
       "     Fluency  Fluency Score Adequacy  Adequacy Score  \n",
       "0  Disfluent              2   Little               2  "
      ]
     },
     "execution_count": 5,
     "metadata": {},
     "output_type": "execute_result"
    }
   ],
   "source": [
    "df = pd.read_csv(os.path.join(indir, 'r.csv'))\n",
    "df.head(1)"
   ]
  },
  {
   "cell_type": "code",
   "execution_count": 8,
   "id": "1b3874aa-f0cf-41ba-b962-4a711f3cdfdd",
   "metadata": {
    "execution": {
     "iopub.execute_input": "2024-09-04T05:22:42.652200Z",
     "iopub.status.busy": "2024-09-04T05:22:42.651309Z",
     "iopub.status.idle": "2024-09-04T05:22:42.660269Z",
     "shell.execute_reply": "2024-09-04T05:22:42.659038Z",
     "shell.execute_reply.started": "2024-09-04T05:22:42.652133Z"
    }
   },
   "outputs": [
    {
     "data": {
      "text/plain": [
       "253"
      ]
     },
     "execution_count": 8,
     "metadata": {},
     "output_type": "execute_result"
    }
   ],
   "source": [
    "len(df)"
   ]
  },
  {
   "cell_type": "markdown",
   "id": "7a07d62e-e9ea-4455-968a-08e17667d6ec",
   "metadata": {},
   "source": [
    "# 평가자 전체 fluency, adequacy"
   ]
  },
  {
   "cell_type": "code",
   "execution_count": 7,
   "id": "b7c32e69-396d-4e7d-97c8-e3d8b1702d95",
   "metadata": {
    "collapsed": true,
    "execution": {
     "iopub.execute_input": "2024-09-04T05:22:31.364197Z",
     "iopub.status.busy": "2024-09-04T05:22:31.363735Z",
     "iopub.status.idle": "2024-09-04T05:22:31.410510Z",
     "shell.execute_reply": "2024-09-04T05:22:31.409795Z",
     "shell.execute_reply.started": "2024-09-04T05:22:31.364167Z"
    },
    "jupyter": {
     "outputs_hidden": true
    },
    "scrolled": true
   },
   "outputs": [
    {
     "data": {
      "text/html": [
       "<div>\n",
       "<style scoped>\n",
       "    .dataframe tbody tr th:only-of-type {\n",
       "        vertical-align: middle;\n",
       "    }\n",
       "\n",
       "    .dataframe tbody tr th {\n",
       "        vertical-align: top;\n",
       "    }\n",
       "\n",
       "    .dataframe thead th {\n",
       "        text-align: right;\n",
       "    }\n",
       "</style>\n",
       "<table border=\"1\" class=\"dataframe\">\n",
       "  <thead>\n",
       "    <tr style=\"text-align: right;\">\n",
       "      <th></th>\n",
       "      <th>q</th>\n",
       "      <th>p</th>\n",
       "      <th>r</th>\n",
       "      <th>x</th>\n",
       "      <th>y</th>\n",
       "      <th>z</th>\n",
       "    </tr>\n",
       "  </thead>\n",
       "  <tbody>\n",
       "    <tr>\n",
       "      <th>0</th>\n",
       "      <td>2</td>\n",
       "      <td>4</td>\n",
       "      <td>2</td>\n",
       "      <td>3</td>\n",
       "      <td>2</td>\n",
       "      <td>4</td>\n",
       "    </tr>\n",
       "    <tr>\n",
       "      <th>1</th>\n",
       "      <td>1</td>\n",
       "      <td>4</td>\n",
       "      <td>2</td>\n",
       "      <td>2</td>\n",
       "      <td>2</td>\n",
       "      <td>4</td>\n",
       "    </tr>\n",
       "    <tr>\n",
       "      <th>2</th>\n",
       "      <td>1</td>\n",
       "      <td>2</td>\n",
       "      <td>2</td>\n",
       "      <td>2</td>\n",
       "      <td>2</td>\n",
       "      <td>3</td>\n",
       "    </tr>\n",
       "    <tr>\n",
       "      <th>3</th>\n",
       "      <td>2</td>\n",
       "      <td>3</td>\n",
       "      <td>4</td>\n",
       "      <td>2</td>\n",
       "      <td>2</td>\n",
       "      <td>3</td>\n",
       "    </tr>\n",
       "    <tr>\n",
       "      <th>4</th>\n",
       "      <td>3</td>\n",
       "      <td>4</td>\n",
       "      <td>4</td>\n",
       "      <td>3</td>\n",
       "      <td>4</td>\n",
       "      <td>4</td>\n",
       "    </tr>\n",
       "    <tr>\n",
       "      <th>...</th>\n",
       "      <td>...</td>\n",
       "      <td>...</td>\n",
       "      <td>...</td>\n",
       "      <td>...</td>\n",
       "      <td>...</td>\n",
       "      <td>...</td>\n",
       "    </tr>\n",
       "    <tr>\n",
       "      <th>248</th>\n",
       "      <td>2</td>\n",
       "      <td>3</td>\n",
       "      <td>3</td>\n",
       "      <td>3</td>\n",
       "      <td>3</td>\n",
       "      <td>3</td>\n",
       "    </tr>\n",
       "    <tr>\n",
       "      <th>249</th>\n",
       "      <td>4</td>\n",
       "      <td>4</td>\n",
       "      <td>4</td>\n",
       "      <td>4</td>\n",
       "      <td>4</td>\n",
       "      <td>4</td>\n",
       "    </tr>\n",
       "    <tr>\n",
       "      <th>250</th>\n",
       "      <td>1</td>\n",
       "      <td>2</td>\n",
       "      <td>2</td>\n",
       "      <td>3</td>\n",
       "      <td>2</td>\n",
       "      <td>3</td>\n",
       "    </tr>\n",
       "    <tr>\n",
       "      <th>251</th>\n",
       "      <td>4</td>\n",
       "      <td>3</td>\n",
       "      <td>4</td>\n",
       "      <td>3</td>\n",
       "      <td>4</td>\n",
       "      <td>4</td>\n",
       "    </tr>\n",
       "    <tr>\n",
       "      <th>252</th>\n",
       "      <td>3</td>\n",
       "      <td>4</td>\n",
       "      <td>3</td>\n",
       "      <td>3</td>\n",
       "      <td>3</td>\n",
       "      <td>3</td>\n",
       "    </tr>\n",
       "  </tbody>\n",
       "</table>\n",
       "<p>253 rows × 6 columns</p>\n",
       "</div>"
      ],
      "text/plain": [
       "     q  p  r  x  y  z\n",
       "0    2  4  2  3  2  4\n",
       "1    1  4  2  2  2  4\n",
       "2    1  2  2  2  2  3\n",
       "3    2  3  4  2  2  3\n",
       "4    3  4  4  3  4  4\n",
       "..  .. .. .. .. .. ..\n",
       "248  2  3  3  3  3  3\n",
       "249  4  4  4  4  4  4\n",
       "250  1  2  2  3  2  3\n",
       "251  4  3  4  3  4  4\n",
       "252  3  4  3  3  3  3\n",
       "\n",
       "[253 rows x 6 columns]"
      ]
     },
     "execution_count": 7,
     "metadata": {},
     "output_type": "execute_result"
    }
   ],
   "source": [
    "def collect_score(flist: list, col: str):\n",
    "    # .csv만 취급\n",
    "    flist = [f for f in flist if f.endswith('.csv')]\n",
    "    tmp = pd.DataFrame()\n",
    "    for fname in flist:\n",
    "        df = pd.read_csv(os.path.join(indir, fname))\n",
    "        tmp[fname[0]] = df[col]\n",
    "    return tmp\n",
    "    \n",
    "fluency = collect_score(scoring, \"Fluency Score\")\n",
    "fluency"
   ]
  },
  {
   "cell_type": "code",
   "execution_count": 9,
   "id": "1fc37f75-dfaf-463c-be09-cd8abef42c40",
   "metadata": {
    "collapsed": true,
    "execution": {
     "iopub.execute_input": "2024-09-04T05:23:01.436506Z",
     "iopub.status.busy": "2024-09-04T05:23:01.436078Z",
     "iopub.status.idle": "2024-09-04T05:23:01.479351Z",
     "shell.execute_reply": "2024-09-04T05:23:01.478855Z",
     "shell.execute_reply.started": "2024-09-04T05:23:01.436469Z"
    },
    "jupyter": {
     "outputs_hidden": true
    },
    "scrolled": true
   },
   "outputs": [
    {
     "data": {
      "text/html": [
       "<div>\n",
       "<style scoped>\n",
       "    .dataframe tbody tr th:only-of-type {\n",
       "        vertical-align: middle;\n",
       "    }\n",
       "\n",
       "    .dataframe tbody tr th {\n",
       "        vertical-align: top;\n",
       "    }\n",
       "\n",
       "    .dataframe thead th {\n",
       "        text-align: right;\n",
       "    }\n",
       "</style>\n",
       "<table border=\"1\" class=\"dataframe\">\n",
       "  <thead>\n",
       "    <tr style=\"text-align: right;\">\n",
       "      <th></th>\n",
       "      <th>q</th>\n",
       "      <th>p</th>\n",
       "      <th>r</th>\n",
       "      <th>x</th>\n",
       "      <th>y</th>\n",
       "      <th>z</th>\n",
       "    </tr>\n",
       "  </thead>\n",
       "  <tbody>\n",
       "    <tr>\n",
       "      <th>0</th>\n",
       "      <td>2</td>\n",
       "      <td>3</td>\n",
       "      <td>2</td>\n",
       "      <td>3</td>\n",
       "      <td>3</td>\n",
       "      <td>2</td>\n",
       "    </tr>\n",
       "    <tr>\n",
       "      <th>1</th>\n",
       "      <td>1</td>\n",
       "      <td>1</td>\n",
       "      <td>2</td>\n",
       "      <td>3</td>\n",
       "      <td>3</td>\n",
       "      <td>2</td>\n",
       "    </tr>\n",
       "    <tr>\n",
       "      <th>2</th>\n",
       "      <td>1</td>\n",
       "      <td>3</td>\n",
       "      <td>3</td>\n",
       "      <td>2</td>\n",
       "      <td>3</td>\n",
       "      <td>3</td>\n",
       "    </tr>\n",
       "    <tr>\n",
       "      <th>3</th>\n",
       "      <td>2</td>\n",
       "      <td>2</td>\n",
       "      <td>3</td>\n",
       "      <td>3</td>\n",
       "      <td>3</td>\n",
       "      <td>3</td>\n",
       "    </tr>\n",
       "    <tr>\n",
       "      <th>4</th>\n",
       "      <td>2</td>\n",
       "      <td>3</td>\n",
       "      <td>3</td>\n",
       "      <td>3</td>\n",
       "      <td>3</td>\n",
       "      <td>4</td>\n",
       "    </tr>\n",
       "    <tr>\n",
       "      <th>...</th>\n",
       "      <td>...</td>\n",
       "      <td>...</td>\n",
       "      <td>...</td>\n",
       "      <td>...</td>\n",
       "      <td>...</td>\n",
       "      <td>...</td>\n",
       "    </tr>\n",
       "    <tr>\n",
       "      <th>248</th>\n",
       "      <td>3</td>\n",
       "      <td>3</td>\n",
       "      <td>3</td>\n",
       "      <td>3</td>\n",
       "      <td>3</td>\n",
       "      <td>3</td>\n",
       "    </tr>\n",
       "    <tr>\n",
       "      <th>249</th>\n",
       "      <td>3</td>\n",
       "      <td>4</td>\n",
       "      <td>3</td>\n",
       "      <td>4</td>\n",
       "      <td>4</td>\n",
       "      <td>4</td>\n",
       "    </tr>\n",
       "    <tr>\n",
       "      <th>250</th>\n",
       "      <td>2</td>\n",
       "      <td>2</td>\n",
       "      <td>3</td>\n",
       "      <td>3</td>\n",
       "      <td>2</td>\n",
       "      <td>3</td>\n",
       "    </tr>\n",
       "    <tr>\n",
       "      <th>251</th>\n",
       "      <td>3</td>\n",
       "      <td>3</td>\n",
       "      <td>4</td>\n",
       "      <td>3</td>\n",
       "      <td>3</td>\n",
       "      <td>4</td>\n",
       "    </tr>\n",
       "    <tr>\n",
       "      <th>252</th>\n",
       "      <td>4</td>\n",
       "      <td>3</td>\n",
       "      <td>3</td>\n",
       "      <td>3</td>\n",
       "      <td>3</td>\n",
       "      <td>3</td>\n",
       "    </tr>\n",
       "  </tbody>\n",
       "</table>\n",
       "<p>253 rows × 6 columns</p>\n",
       "</div>"
      ],
      "text/plain": [
       "     q  p  r  x  y  z\n",
       "0    2  3  2  3  3  2\n",
       "1    1  1  2  3  3  2\n",
       "2    1  3  3  2  3  3\n",
       "3    2  2  3  3  3  3\n",
       "4    2  3  3  3  3  4\n",
       "..  .. .. .. .. .. ..\n",
       "248  3  3  3  3  3  3\n",
       "249  3  4  3  4  4  4\n",
       "250  2  2  3  3  2  3\n",
       "251  3  3  4  3  3  4\n",
       "252  4  3  3  3  3  3\n",
       "\n",
       "[253 rows x 6 columns]"
      ]
     },
     "execution_count": 9,
     "metadata": {},
     "output_type": "execute_result"
    }
   ],
   "source": [
    "adequacy = collect_score(scoring, \"Adequacy Score\")\n",
    "adequacy"
   ]
  },
  {
   "cell_type": "code",
   "execution_count": 13,
   "id": "3cc1ba16-8d04-4c74-bc50-0b0f891649a3",
   "metadata": {
    "execution": {
     "iopub.execute_input": "2024-09-04T05:28:14.070962Z",
     "iopub.status.busy": "2024-09-04T05:28:14.069527Z",
     "iopub.status.idle": "2024-09-04T05:28:14.085099Z",
     "shell.execute_reply": "2024-09-04T05:28:14.084342Z",
     "shell.execute_reply.started": "2024-09-04T05:28:14.070885Z"
    }
   },
   "outputs": [],
   "source": [
    "fluency.to_csv(os.path.join(outdir, 'fluency.csv'))\n",
    "adequacy.to_csv(os.path.join(outdir, 'adequacy.csv'))"
   ]
  },
  {
   "cell_type": "code",
   "execution_count": 14,
   "id": "55c7d29b-5c0d-41c5-b098-89519a5ab9d6",
   "metadata": {
    "execution": {
     "iopub.execute_input": "2024-09-04T05:29:35.157237Z",
     "iopub.status.busy": "2024-09-04T05:29:35.156534Z",
     "iopub.status.idle": "2024-09-04T05:29:35.172398Z",
     "shell.execute_reply": "2024-09-04T05:29:35.171807Z",
     "shell.execute_reply.started": "2024-09-04T05:29:35.157183Z"
    }
   },
   "outputs": [
    {
     "data": {
      "text/html": [
       "<div>\n",
       "<style scoped>\n",
       "    .dataframe tbody tr th:only-of-type {\n",
       "        vertical-align: middle;\n",
       "    }\n",
       "\n",
       "    .dataframe tbody tr th {\n",
       "        vertical-align: top;\n",
       "    }\n",
       "\n",
       "    .dataframe thead th {\n",
       "        text-align: right;\n",
       "    }\n",
       "</style>\n",
       "<table border=\"1\" class=\"dataframe\">\n",
       "  <thead>\n",
       "    <tr style=\"text-align: right;\">\n",
       "      <th></th>\n",
       "      <th>q</th>\n",
       "      <th>p</th>\n",
       "      <th>r</th>\n",
       "      <th>x</th>\n",
       "      <th>y</th>\n",
       "      <th>z</th>\n",
       "    </tr>\n",
       "  </thead>\n",
       "  <tbody>\n",
       "    <tr>\n",
       "      <th>q</th>\n",
       "      <td>1.000000</td>\n",
       "      <td>0.497017</td>\n",
       "      <td>0.649142</td>\n",
       "      <td>0.477813</td>\n",
       "      <td>0.644911</td>\n",
       "      <td>0.342492</td>\n",
       "    </tr>\n",
       "    <tr>\n",
       "      <th>p</th>\n",
       "      <td>0.497017</td>\n",
       "      <td>1.000000</td>\n",
       "      <td>0.594359</td>\n",
       "      <td>0.366096</td>\n",
       "      <td>0.596188</td>\n",
       "      <td>0.362920</td>\n",
       "    </tr>\n",
       "    <tr>\n",
       "      <th>r</th>\n",
       "      <td>0.649142</td>\n",
       "      <td>0.594359</td>\n",
       "      <td>1.000000</td>\n",
       "      <td>0.472367</td>\n",
       "      <td>0.669568</td>\n",
       "      <td>0.381225</td>\n",
       "    </tr>\n",
       "    <tr>\n",
       "      <th>x</th>\n",
       "      <td>0.477813</td>\n",
       "      <td>0.366096</td>\n",
       "      <td>0.472367</td>\n",
       "      <td>1.000000</td>\n",
       "      <td>0.464217</td>\n",
       "      <td>0.390269</td>\n",
       "    </tr>\n",
       "    <tr>\n",
       "      <th>y</th>\n",
       "      <td>0.644911</td>\n",
       "      <td>0.596188</td>\n",
       "      <td>0.669568</td>\n",
       "      <td>0.464217</td>\n",
       "      <td>1.000000</td>\n",
       "      <td>0.309049</td>\n",
       "    </tr>\n",
       "    <tr>\n",
       "      <th>z</th>\n",
       "      <td>0.342492</td>\n",
       "      <td>0.362920</td>\n",
       "      <td>0.381225</td>\n",
       "      <td>0.390269</td>\n",
       "      <td>0.309049</td>\n",
       "      <td>1.000000</td>\n",
       "    </tr>\n",
       "  </tbody>\n",
       "</table>\n",
       "</div>"
      ],
      "text/plain": [
       "          q         p         r         x         y         z\n",
       "q  1.000000  0.497017  0.649142  0.477813  0.644911  0.342492\n",
       "p  0.497017  1.000000  0.594359  0.366096  0.596188  0.362920\n",
       "r  0.649142  0.594359  1.000000  0.472367  0.669568  0.381225\n",
       "x  0.477813  0.366096  0.472367  1.000000  0.464217  0.390269\n",
       "y  0.644911  0.596188  0.669568  0.464217  1.000000  0.309049\n",
       "z  0.342492  0.362920  0.381225  0.390269  0.309049  1.000000"
      ]
     },
     "execution_count": 14,
     "metadata": {},
     "output_type": "execute_result"
    }
   ],
   "source": [
    "fluency.corr()"
   ]
  },
  {
   "cell_type": "code",
   "execution_count": 15,
   "id": "a7c3f94f-d591-4be0-a551-1a7f0361597a",
   "metadata": {
    "execution": {
     "iopub.execute_input": "2024-09-04T05:29:39.826705Z",
     "iopub.status.busy": "2024-09-04T05:29:39.826005Z",
     "iopub.status.idle": "2024-09-04T05:29:39.842659Z",
     "shell.execute_reply": "2024-09-04T05:29:39.841895Z",
     "shell.execute_reply.started": "2024-09-04T05:29:39.826652Z"
    }
   },
   "outputs": [
    {
     "data": {
      "text/html": [
       "<div>\n",
       "<style scoped>\n",
       "    .dataframe tbody tr th:only-of-type {\n",
       "        vertical-align: middle;\n",
       "    }\n",
       "\n",
       "    .dataframe tbody tr th {\n",
       "        vertical-align: top;\n",
       "    }\n",
       "\n",
       "    .dataframe thead th {\n",
       "        text-align: right;\n",
       "    }\n",
       "</style>\n",
       "<table border=\"1\" class=\"dataframe\">\n",
       "  <thead>\n",
       "    <tr style=\"text-align: right;\">\n",
       "      <th></th>\n",
       "      <th>q</th>\n",
       "      <th>p</th>\n",
       "      <th>r</th>\n",
       "      <th>x</th>\n",
       "      <th>y</th>\n",
       "      <th>z</th>\n",
       "    </tr>\n",
       "  </thead>\n",
       "  <tbody>\n",
       "    <tr>\n",
       "      <th>q</th>\n",
       "      <td>1.000000</td>\n",
       "      <td>0.572718</td>\n",
       "      <td>0.519143</td>\n",
       "      <td>0.270122</td>\n",
       "      <td>0.467813</td>\n",
       "      <td>0.553407</td>\n",
       "    </tr>\n",
       "    <tr>\n",
       "      <th>p</th>\n",
       "      <td>0.572718</td>\n",
       "      <td>1.000000</td>\n",
       "      <td>0.567269</td>\n",
       "      <td>0.411046</td>\n",
       "      <td>0.520615</td>\n",
       "      <td>0.549141</td>\n",
       "    </tr>\n",
       "    <tr>\n",
       "      <th>r</th>\n",
       "      <td>0.519143</td>\n",
       "      <td>0.567269</td>\n",
       "      <td>1.000000</td>\n",
       "      <td>0.359444</td>\n",
       "      <td>0.455958</td>\n",
       "      <td>0.514924</td>\n",
       "    </tr>\n",
       "    <tr>\n",
       "      <th>x</th>\n",
       "      <td>0.270122</td>\n",
       "      <td>0.411046</td>\n",
       "      <td>0.359444</td>\n",
       "      <td>1.000000</td>\n",
       "      <td>0.331740</td>\n",
       "      <td>0.313397</td>\n",
       "    </tr>\n",
       "    <tr>\n",
       "      <th>y</th>\n",
       "      <td>0.467813</td>\n",
       "      <td>0.520615</td>\n",
       "      <td>0.455958</td>\n",
       "      <td>0.331740</td>\n",
       "      <td>1.000000</td>\n",
       "      <td>0.503584</td>\n",
       "    </tr>\n",
       "    <tr>\n",
       "      <th>z</th>\n",
       "      <td>0.553407</td>\n",
       "      <td>0.549141</td>\n",
       "      <td>0.514924</td>\n",
       "      <td>0.313397</td>\n",
       "      <td>0.503584</td>\n",
       "      <td>1.000000</td>\n",
       "    </tr>\n",
       "  </tbody>\n",
       "</table>\n",
       "</div>"
      ],
      "text/plain": [
       "          q         p         r         x         y         z\n",
       "q  1.000000  0.572718  0.519143  0.270122  0.467813  0.553407\n",
       "p  0.572718  1.000000  0.567269  0.411046  0.520615  0.549141\n",
       "r  0.519143  0.567269  1.000000  0.359444  0.455958  0.514924\n",
       "x  0.270122  0.411046  0.359444  1.000000  0.331740  0.313397\n",
       "y  0.467813  0.520615  0.455958  0.331740  1.000000  0.503584\n",
       "z  0.553407  0.549141  0.514924  0.313397  0.503584  1.000000"
      ]
     },
     "execution_count": 15,
     "metadata": {},
     "output_type": "execute_result"
    }
   ],
   "source": [
    "adequacy.corr()"
   ]
  },
  {
   "cell_type": "code",
   "execution_count": 19,
   "id": "171d1662-8d65-4499-b4a1-be9300caf78f",
   "metadata": {
    "execution": {
     "iopub.execute_input": "2024-09-04T05:35:37.158581Z",
     "iopub.status.busy": "2024-09-04T05:35:37.158150Z",
     "iopub.status.idle": "2024-09-04T05:35:37.450069Z",
     "shell.execute_reply": "2024-09-04T05:35:37.449557Z",
     "shell.execute_reply.started": "2024-09-04T05:35:37.158553Z"
    }
   },
   "outputs": [
    {
     "data": {
      "text/plain": [
       "<Axes: >"
      ]
     },
     "execution_count": 19,
     "metadata": {},
     "output_type": "execute_result"
    },
    {
     "data": {
      "image/png": "[encoded data removed]",
      "text/plain": [
       "<Figure size 640x480 with 2 Axes>"
      ]
     },
     "metadata": {},
     "output_type": "display_data"
    }
   ],
   "source": [
    "import seaborn as sns\n",
    "sns.heatmap(fluency['p q r x y z'.split()].corr(), annot=True, fmt='.3f', cmap=\"crest\")"
   ]
  },
  {
   "cell_type": "code",
   "execution_count": 20,
   "id": "89168666-a420-43b3-80b7-80f7e3d9f8a6",
   "metadata": {
    "execution": {
     "iopub.execute_input": "2024-09-04T05:35:53.252450Z",
     "iopub.status.busy": "2024-09-04T05:35:53.249966Z",
     "iopub.status.idle": "2024-09-04T05:35:53.474135Z",
     "shell.execute_reply": "2024-09-04T05:35:53.473696Z",
     "shell.execute_reply.started": "2024-09-04T05:35:53.252322Z"
    }
   },
   "outputs": [
    {
     "data": {
      "text/plain": [
       "<Axes: >"
      ]
     },
     "execution_count": 20,
     "metadata": {},
     "output_type": "execute_result"
    },
    {
     "data": {
      "image/png": "[encoded data removed]",
      "text/plain": [
       "<Figure size 640x480 with 2 Axes>"
      ]
     },
     "metadata": {},
     "output_type": "display_data"
    }
   ],
   "source": [
    "sns.heatmap(adequacy['p q r x y z'.split()].corr(), annot=True, fmt='.3f', cmap=\"crest\")"
   ]
  },
  {
   "cell_type": "markdown",
   "id": "f78498d0-7cfa-4e3a-b0c5-5a5dbd311dad",
   "metadata": {},
   "source": [
    "## IAA"
   ]
  },
  {
   "cell_type": "code",
   "execution_count": 35,
   "id": "9bf27563-19f1-47f2-8bcd-515755dab971",
   "metadata": {
    "execution": {
     "iopub.execute_input": "2024-09-04T06:02:49.031018Z",
     "iopub.status.busy": "2024-09-04T06:02:49.029028Z",
     "iopub.status.idle": "2024-09-04T06:02:49.068564Z",
     "shell.execute_reply": "2024-09-04T06:02:49.068073Z",
     "shell.execute_reply.started": "2024-09-04T06:02:49.030929Z"
    }
   },
   "outputs": [
    {
     "data": {
      "text/plain": [
       "{'q-p': 0.20838894602104896,\n",
       " 'q-r': 0.2861005949161709,\n",
       " 'q-x': 0.06222489922624297,\n",
       " 'q-y': 0.22519763549604732,\n",
       " 'q-z': 0.3358490566037736,\n",
       " 'p-r': 0.1703586497890296,\n",
       " 'p-x': 0.12426227058794226,\n",
       " 'p-y': 0.10972121322193973,\n",
       " 'p-z': 0.2014314928425358,\n",
       " 'r-x': 0.1868027982605407,\n",
       " 'r-y': 0.288042901136243,\n",
       " 'r-z': 0.2850962740685171,\n",
       " 'x-y': 0.2174977139476092,\n",
       " 'x-z': 0.1571211601587379,\n",
       " 'y-z': 0.30247874811732567}"
      ]
     },
     "execution_count": 35,
     "metadata": {},
     "output_type": "execute_result"
    }
   ],
   "source": [
    "from sklearn.metrics import cohen_kappa_score\n",
    "from itertools import combinations\n",
    "\n",
    "def get_iaa(df):\n",
    "    tmp = dict()\n",
    "    combi = combinations(df.columns.tolist(), 2)\n",
    "    for cb in combi:\n",
    "        score = cohen_kappa_score(df[cb[0]], df[cb[1]])\n",
    "        tmp[f'{cb[0]}-{cb[1]}'] = score\n",
    "    return tmp\n",
    "\n",
    "get_iaa(adequacy)"
   ]
  },
  {
   "cell_type": "code",
   "execution_count": 36,
   "id": "f6101441-bcde-47e5-8c21-40c42fe57e7c",
   "metadata": {
    "execution": {
     "iopub.execute_input": "2024-09-04T06:03:03.084566Z",
     "iopub.status.busy": "2024-09-04T06:03:03.083856Z",
     "iopub.status.idle": "2024-09-04T06:03:03.118946Z",
     "shell.execute_reply": "2024-09-04T06:03:03.118369Z",
     "shell.execute_reply.started": "2024-09-04T06:03:03.084527Z"
    }
   },
   "outputs": [
    {
     "data": {
      "text/plain": [
       "{'q-p': 0.1950204699181204,\n",
       " 'q-r': 0.29696081220051207,\n",
       " 'q-x': 0.15743102249014596,\n",
       " 'q-y': 0.24313603829193164,\n",
       " 'q-z': 0.05770697778774958,\n",
       " 'p-r': 0.2980432242990654,\n",
       " 'p-x': 0.10892811677840952,\n",
       " 'p-y': 0.38626370849547687,\n",
       " 'p-z': 0.15967271548930673,\n",
       " 'r-x': 0.06583672975263322,\n",
       " 'r-y': 0.40341674687199225,\n",
       " 'r-z': 0.1705550472705093,\n",
       " 'x-y': 0.10614106462250006,\n",
       " 'x-z': -0.053811847862672346,\n",
       " 'y-z': 0.1930253575035884}"
      ]
     },
     "execution_count": 36,
     "metadata": {},
     "output_type": "execute_result"
    }
   ],
   "source": [
    "get_iaa(fluency)"
   ]
  },
  {
   "cell_type": "code",
   "execution_count": 37,
   "id": "4434b45c-d602-4457-845f-a66d3898092c",
   "metadata": {
    "execution": {
     "iopub.execute_input": "2024-09-04T06:03:08.690531Z",
     "iopub.status.busy": "2024-09-04T06:03:08.689965Z",
     "iopub.status.idle": "2024-09-04T06:03:08.738238Z",
     "shell.execute_reply": "2024-09-04T06:03:08.737624Z",
     "shell.execute_reply.started": "2024-09-04T06:03:08.690501Z"
    }
   },
   "outputs": [
    {
     "data": {
      "text/html": [
       "<div>\n",
       "<style scoped>\n",
       "    .dataframe tbody tr th:only-of-type {\n",
       "        vertical-align: middle;\n",
       "    }\n",
       "\n",
       "    .dataframe tbody tr th {\n",
       "        vertical-align: top;\n",
       "    }\n",
       "\n",
       "    .dataframe thead th {\n",
       "        text-align: right;\n",
       "    }\n",
       "</style>\n",
       "<table border=\"1\" class=\"dataframe\">\n",
       "  <thead>\n",
       "    <tr style=\"text-align: right;\">\n",
       "      <th></th>\n",
       "      <th>Adequacy</th>\n",
       "      <th>Fluency</th>\n",
       "    </tr>\n",
       "  </thead>\n",
       "  <tbody>\n",
       "    <tr>\n",
       "      <th>q-p</th>\n",
       "      <td>0.208389</td>\n",
       "      <td>0.195020</td>\n",
       "    </tr>\n",
       "    <tr>\n",
       "      <th>q-r</th>\n",
       "      <td>0.286101</td>\n",
       "      <td>0.296961</td>\n",
       "    </tr>\n",
       "    <tr>\n",
       "      <th>q-x</th>\n",
       "      <td>0.062225</td>\n",
       "      <td>0.157431</td>\n",
       "    </tr>\n",
       "    <tr>\n",
       "      <th>q-y</th>\n",
       "      <td>0.225198</td>\n",
       "      <td>0.243136</td>\n",
       "    </tr>\n",
       "    <tr>\n",
       "      <th>q-z</th>\n",
       "      <td>0.335849</td>\n",
       "      <td>0.057707</td>\n",
       "    </tr>\n",
       "    <tr>\n",
       "      <th>p-r</th>\n",
       "      <td>0.170359</td>\n",
       "      <td>0.298043</td>\n",
       "    </tr>\n",
       "    <tr>\n",
       "      <th>p-x</th>\n",
       "      <td>0.124262</td>\n",
       "      <td>0.108928</td>\n",
       "    </tr>\n",
       "    <tr>\n",
       "      <th>p-y</th>\n",
       "      <td>0.109721</td>\n",
       "      <td>0.386264</td>\n",
       "    </tr>\n",
       "    <tr>\n",
       "      <th>p-z</th>\n",
       "      <td>0.201431</td>\n",
       "      <td>0.159673</td>\n",
       "    </tr>\n",
       "    <tr>\n",
       "      <th>r-x</th>\n",
       "      <td>0.186803</td>\n",
       "      <td>0.065837</td>\n",
       "    </tr>\n",
       "    <tr>\n",
       "      <th>r-y</th>\n",
       "      <td>0.288043</td>\n",
       "      <td>0.403417</td>\n",
       "    </tr>\n",
       "    <tr>\n",
       "      <th>r-z</th>\n",
       "      <td>0.285096</td>\n",
       "      <td>0.170555</td>\n",
       "    </tr>\n",
       "    <tr>\n",
       "      <th>x-y</th>\n",
       "      <td>0.217498</td>\n",
       "      <td>0.106141</td>\n",
       "    </tr>\n",
       "    <tr>\n",
       "      <th>x-z</th>\n",
       "      <td>0.157121</td>\n",
       "      <td>-0.053812</td>\n",
       "    </tr>\n",
       "    <tr>\n",
       "      <th>y-z</th>\n",
       "      <td>0.302479</td>\n",
       "      <td>0.193025</td>\n",
       "    </tr>\n",
       "  </tbody>\n",
       "</table>\n",
       "</div>"
      ],
      "text/plain": [
       "     Adequacy   Fluency\n",
       "q-p  0.208389  0.195020\n",
       "q-r  0.286101  0.296961\n",
       "q-x  0.062225  0.157431\n",
       "q-y  0.225198  0.243136\n",
       "q-z  0.335849  0.057707\n",
       "p-r  0.170359  0.298043\n",
       "p-x  0.124262  0.108928\n",
       "p-y  0.109721  0.386264\n",
       "p-z  0.201431  0.159673\n",
       "r-x  0.186803  0.065837\n",
       "r-y  0.288043  0.403417\n",
       "r-z  0.285096  0.170555\n",
       "x-y  0.217498  0.106141\n",
       "x-z  0.157121 -0.053812\n",
       "y-z  0.302479  0.193025"
      ]
     },
     "execution_count": 37,
     "metadata": {},
     "output_type": "execute_result"
    }
   ],
   "source": [
    "a_iaa = get_iaa(adequacy)\n",
    "iaa_df = pd.DataFrame(a_iaa.values(), index=a_iaa.keys(), columns=['Adequacy'])\n",
    "iaa_df['Fluency'] = get_iaa(fluency).values()\n",
    "iaa_df"
   ]
  },
  {
   "cell_type": "code",
   "execution_count": 38,
   "id": "74932d8f-62a2-4dd2-a995-0c1f640bbfc7",
   "metadata": {
    "execution": {
     "iopub.execute_input": "2024-09-04T06:03:13.116338Z",
     "iopub.status.busy": "2024-09-04T06:03:13.115929Z",
     "iopub.status.idle": "2024-09-04T06:03:13.126789Z",
     "shell.execute_reply": "2024-09-04T06:03:13.125815Z",
     "shell.execute_reply.started": "2024-09-04T06:03:13.116310Z"
    }
   },
   "outputs": [],
   "source": [
    "iaa_df.to_csv(os.path.join(outdir, 'iaa.scoring.csv'))"
   ]
  },
  {
   "cell_type": "code",
   "execution_count": 39,
   "id": "75da886a-37a8-4903-99c6-04ce6fd680d8",
   "metadata": {
    "execution": {
     "iopub.execute_input": "2024-09-04T06:03:14.277489Z",
     "iopub.status.busy": "2024-09-04T06:03:14.277020Z",
     "iopub.status.idle": "2024-09-04T06:03:14.289166Z",
     "shell.execute_reply": "2024-09-04T06:03:14.288265Z",
     "shell.execute_reply.started": "2024-09-04T06:03:14.277451Z"
    }
   },
   "outputs": [
    {
     "data": {
      "text/plain": [
       "Adequacy    0.210705\n",
       "Fluency     0.185888\n",
       "dtype: float64"
      ]
     },
     "execution_count": 39,
     "metadata": {},
     "output_type": "execute_result"
    }
   ],
   "source": [
    "iaa_df.mean()"
   ]
  },
  {
   "cell_type": "code",
   "execution_count": 48,
   "id": "7cc95f31-494e-4f2b-8c60-b1cbcaf0dd7d",
   "metadata": {
    "execution": {
     "iopub.execute_input": "2024-09-04T06:09:16.744609Z",
     "iopub.status.busy": "2024-09-04T06:09:16.744021Z",
     "iopub.status.idle": "2024-09-04T06:09:17.118079Z",
     "shell.execute_reply": "2024-09-04T06:09:17.117661Z",
     "shell.execute_reply.started": "2024-09-04T06:09:16.744573Z"
    }
   },
   "outputs": [
    {
     "data": {
      "image/png": "[encoded data removed]",
      "text/plain": [
       "<Figure size 640x480 with 1 Axes>"
      ]
     },
     "metadata": {},
     "output_type": "display_data"
    }
   ],
   "source": [
    "import matplotlib.pyplot as plt\n",
    "\n",
    "iaa_df.sort_values('Fluency').plot(kind='bar')\n",
    "plt.title('IAA (Fluency, Adequacy)')\n",
    "plt.savefig(dpi=300, format='png', fname='images/iaa.png')"
   ]
  },
  {
   "cell_type": "markdown",
   "id": "fd0eaaf8-e971-4ebd-8677-0d07e9da4a13",
   "metadata": {},
   "source": [
    "# 문장 길이 상관관계"
   ]
  },
  {
   "cell_type": "code",
   "execution_count": 52,
   "id": "25c48847-7ae6-445b-ac26-3c5180b3897d",
   "metadata": {
    "execution": {
     "iopub.execute_input": "2024-09-05T01:55:27.644478Z",
     "iopub.status.busy": "2024-09-05T01:55:27.643221Z",
     "iopub.status.idle": "2024-09-05T01:55:27.711502Z",
     "shell.execute_reply": "2024-09-05T01:55:27.710923Z",
     "shell.execute_reply.started": "2024-09-05T01:55:27.644397Z"
    }
   },
   "outputs": [
    {
     "data": {
      "text/plain": [
       "defaultdict(list,\n",
       "            {'q': [-0.37128476147281564, -0.21910152490411572],\n",
       "             'p': [-0.34966619283437805, -0.04531687955395876],\n",
       "             'r': [-0.3189998911495131, -0.16788001101573227],\n",
       "             'x': [-0.315710951324068, -0.09204609662387904],\n",
       "             'y': [-0.4335135230212806, -0.25455927647798254],\n",
       "             'z': [-0.24193546343076952, -0.29120948223784704]})"
      ]
     },
     "execution_count": 52,
     "metadata": {},
     "output_type": "execute_result"
    }
   ],
   "source": [
    "from collections import defaultdict\n",
    "\n",
    "tmp = defaultdict(list)\n",
    "for file in scoring:\n",
    "    if file.endswith('.csv'):\n",
    "        df = pd.read_csv(os.path.join(indir, file))\n",
    "        for col in ['Fluency Score', 'Adequacy Score']:\n",
    "            r = df[['Number of Words (Source Segment)', col]].corr()[col][0]\n",
    "            tmp[file[0]].append(r)\n",
    "tmp"
   ]
  },
  {
   "cell_type": "code",
   "execution_count": 55,
   "id": "9c7c5c63-7c08-4345-a52d-3b713482a1f9",
   "metadata": {
    "execution": {
     "iopub.execute_input": "2024-09-05T01:57:05.138423Z",
     "iopub.status.busy": "2024-09-05T01:57:05.138118Z",
     "iopub.status.idle": "2024-09-05T01:57:05.144857Z",
     "shell.execute_reply": "2024-09-05T01:57:05.144260Z",
     "shell.execute_reply.started": "2024-09-05T01:57:05.138399Z"
    }
   },
   "outputs": [
    {
     "data": {
      "text/html": [
       "<div>\n",
       "<style scoped>\n",
       "    .dataframe tbody tr th:only-of-type {\n",
       "        vertical-align: middle;\n",
       "    }\n",
       "\n",
       "    .dataframe tbody tr th {\n",
       "        vertical-align: top;\n",
       "    }\n",
       "\n",
       "    .dataframe thead th {\n",
       "        text-align: right;\n",
       "    }\n",
       "</style>\n",
       "<table border=\"1\" class=\"dataframe\">\n",
       "  <thead>\n",
       "    <tr style=\"text-align: right;\">\n",
       "      <th></th>\n",
       "      <th>fluency</th>\n",
       "      <th>adequacy</th>\n",
       "    </tr>\n",
       "  </thead>\n",
       "  <tbody>\n",
       "    <tr>\n",
       "      <th>q</th>\n",
       "      <td>-0.371285</td>\n",
       "      <td>-0.219102</td>\n",
       "    </tr>\n",
       "    <tr>\n",
       "      <th>p</th>\n",
       "      <td>-0.349666</td>\n",
       "      <td>-0.045317</td>\n",
       "    </tr>\n",
       "    <tr>\n",
       "      <th>r</th>\n",
       "      <td>-0.319000</td>\n",
       "      <td>-0.167880</td>\n",
       "    </tr>\n",
       "    <tr>\n",
       "      <th>x</th>\n",
       "      <td>-0.315711</td>\n",
       "      <td>-0.092046</td>\n",
       "    </tr>\n",
       "    <tr>\n",
       "      <th>y</th>\n",
       "      <td>-0.433514</td>\n",
       "      <td>-0.254559</td>\n",
       "    </tr>\n",
       "    <tr>\n",
       "      <th>z</th>\n",
       "      <td>-0.241935</td>\n",
       "      <td>-0.291209</td>\n",
       "    </tr>\n",
       "  </tbody>\n",
       "</table>\n",
       "</div>"
      ],
      "text/plain": [
       "    fluency  adequacy\n",
       "q -0.371285 -0.219102\n",
       "p -0.349666 -0.045317\n",
       "r -0.319000 -0.167880\n",
       "x -0.315711 -0.092046\n",
       "y -0.433514 -0.254559\n",
       "z -0.241935 -0.291209"
      ]
     },
     "execution_count": 55,
     "metadata": {},
     "output_type": "execute_result"
    }
   ],
   "source": [
    "df_ = pd.DataFrame(tmp.values(), \n",
    "             index=tmp.keys(), \n",
    "             columns=['fluency', 'adequacy'])\n",
    "df_"
   ]
  },
  {
   "cell_type": "code",
   "execution_count": 97,
   "id": "79a2b0a2-d44b-4afd-b1b0-492858b5012e",
   "metadata": {
    "execution": {
     "iopub.execute_input": "2024-09-05T02:30:38.230765Z",
     "iopub.status.busy": "2024-09-05T02:30:38.230356Z",
     "iopub.status.idle": "2024-09-05T02:30:38.327094Z",
     "shell.execute_reply": "2024-09-05T02:30:38.326635Z",
     "shell.execute_reply.started": "2024-09-05T02:30:38.230738Z"
    }
   },
   "outputs": [
    {
     "data": {
      "image/png": "[encoded data removed]",
      "text/plain": [
       "<Figure size 640x480 with 1 Axes>"
      ]
     },
     "metadata": {},
     "output_type": "display_data"
    }
   ],
   "source": [
    "ax = df_.plot(kind='scatter', x='fluency', y='adequacy', marker='^', color='r')\n",
    "for idx, label in enumerate(list(df_.index)): \n",
    "    for acc in df_.columns:\n",
    "        value = np.round(df_.iloc[idx][acc], decimals=2)\n",
    "        ax.annotate(value,\n",
    "                    (idx, value),\n",
    "                    xytext=(3, 3),\n",
    "                    textcoords='offset points',\n",
    "                   )\n",
    "plt.show()"
   ]
  },
  {
   "cell_type": "code",
   "execution_count": 105,
   "id": "5d539ef2-ed86-4760-98aa-10f59b825f93",
   "metadata": {
    "execution": {
     "iopub.execute_input": "2024-09-05T02:32:50.534110Z",
     "iopub.status.busy": "2024-09-05T02:32:50.533428Z",
     "iopub.status.idle": "2024-09-05T02:32:50.814484Z",
     "shell.execute_reply": "2024-09-05T02:32:50.814202Z",
     "shell.execute_reply.started": "2024-09-05T02:32:50.534057Z"
    }
   },
   "outputs": [
    {
     "data": {
      "image/png": "[encoded data removed]",
      "text/plain": [
       "<Figure size 800x600 with 1 Axes>"
      ]
     },
     "metadata": {},
     "output_type": "display_data"
    }
   ],
   "source": [
    "import matplotlib.pyplot as plt \n",
    "\n",
    "fig, ax = plt.subplots(figsize=(8, 6))\n",
    "x = df_[['fluency']].values\n",
    "y = df_[['adequacy']].values\n",
    "annotations = df_.index.to_list()\n",
    "ax.scatter(x, y, s=30, marker='^', color='r')\n",
    "\n",
    "for xi, yi, text in zip(x, y, annotations):\n",
    "    ax.annotate(text,\n",
    "                xy=(xi, yi), xycoords='data',\n",
    "                xytext=(3, 10), textcoords='offset points', fontsize=15)\n",
    "plt.xlabel('Fluency $r$', fontsize=12)\n",
    "plt.ylabel('Adequacy $r$', fontsize=12)\n",
    "plt.savefig(dpi=300, format='png', fname='images/scoring_sent_corr.png')\n",
    "plt.show()"
   ]
  },
  {
   "cell_type": "code",
   "execution_count": 106,
   "id": "fff4099c-325d-4c01-8fb8-330a98770fc3",
   "metadata": {
    "execution": {
     "iopub.execute_input": "2024-09-05T02:56:14.378700Z",
     "iopub.status.busy": "2024-09-05T02:56:14.376201Z",
     "iopub.status.idle": "2024-09-05T02:56:14.410843Z",
     "shell.execute_reply": "2024-09-05T02:56:14.410369Z",
     "shell.execute_reply.started": "2024-09-05T02:56:14.378637Z"
    }
   },
   "outputs": [],
   "source": [
    "df_.to_csv(os.path.join(outdir, 'sent_corr.scoring.csv'))"
   ]
  },
  {
   "cell_type": "code",
   "execution_count": null,
   "id": "c70a6798-f871-4182-bdbe-f3ebd7ea1ec1",
   "metadata": {},
   "outputs": [],
   "source": []
  }
 ],
 "metadata": {
  "kernelspec": {
   "display_name": "LangChain",
   "language": "python",
   "name": "langchain"
  },
  "language_info": {
   "codemirror_mode": {
    "name": "ipython",
    "version": 3
   },
   "file_extension": ".py",
   "mimetype": "text/x-python",
   "name": "python",
   "nbconvert_exporter": "python",
   "pygments_lexer": "ipython3",
   "version": "3.10.12"
  }
 },
 "nbformat": 4,
 "nbformat_minor": 5
}
